{
 "cells": [
  {
   "cell_type": "code",
   "execution_count": null,
   "id": "09539b93",
   "metadata": {},
   "outputs": [],
   "source": [
    "import imageio\n",
    "import pandas as pd\n",
    "import numpy as np\n",
    "from sklearn.feature_extraction.text import CountVectorizer\n",
    "from sklearn.decomposition import LatentDirichletAllocation\n",
    "\n",
    "# Read data\n",
    "XYtr = pd.read_csv('XYtr.csv')\n",
    "Xte = pd.read_csv('Xte.csv')\n",
    "pred = pd.read_csv('pred.csv')"
   ]
  },
  {
   "cell_type": "code",
   "execution_count": null,
   "id": "a917bb84",
   "metadata": {},
   "outputs": [],
   "source": [
    "# Convert date to numeric, extract numeric columns\n",
    "cdate = XYtr['cdate']\n",
    "# make a copy\n",
    "XYtr1 = XYtr.copy() \n",
    "XYtr1['cdate'] = pd.to_datetime(cdate).values.astype(np.float64)/8.64e+13\n",
    "# make a copy\n",
    "Xte1 = Xte.copy()\n",
    "Xte1['cdate'] = pd.to_datetime(Xte1['cdate']).values.astype(np.float64)/8.64e+13\n",
    "# make a copy\n",
    "pred0 = pred.copy()"
   ]
  },
  {
   "cell_type": "code",
   "execution_count": null,
   "id": "233e1f70",
   "metadata": {},
   "outputs": [],
   "source": [
    "# Processing version for XYtr\n",
    "XYtr['version'] = XYtr['version'].fillna(\"None\")\n",
    "versions_XYtr = pd.get_dummies(XYtr['version'])\n",
    "# Processing version for Xte\n",
    "Xte['version'] = Xte['version'].fillna(\"None\")\n",
    "versions_Xte = pd.get_dummies(Xte['version'])"
   ]
  },
  {
   "cell_type": "code",
   "execution_count": null,
   "id": "a7022d12",
   "metadata": {},
   "outputs": [],
   "source": [
    "# Make corpus and vocab\n",
    "\n",
    "K = 500\n",
    "K2 = 20\n",
    "XYtr['symbol'] = XYtr['symbol'].fillna(\"NAN\")\n",
    "XYtr['description'] = XYtr['description'].fillna(\"NAN\")\n",
    "Xte['description'] = Xte['description'].fillna(\"NAN\")\n",
    "Xte['symbol'] = Xte['symbol'].fillna(\"NAN\")\n",
    "corpus = list(XYtr['description'])+list(Xte['description'])\n",
    "corpus2 =list(XYtr['symbol'])+list(Xte['symbol'])\n",
    "# transform a given text into a vector on the basis of the frequency (count) of each word that occurs in the entire text.\n",
    "\n",
    "vectorizer = CountVectorizer()\n",
    "\n",
    "corpus = vectorizer.fit_transform(corpus)\n",
    "corpus2 = vectorizer.fit_transform(corpus2)\n",
    "lda = LatentDirichletAllocation(n_components = K)\n",
    "lda2 = LatentDirichletAllocation(n_components = K2)\n",
    "lda.fit(corpus)\n",
    "lda2.fit(corpus2)\n",
    "corpus\n",
    "corpus2"
   ]
  },
  {
   "cell_type": "code",
   "execution_count": null,
   "id": "1532c3c9",
   "metadata": {},
   "outputs": [],
   "source": [
    "topics = lda.transform(corpus)\n",
    "topics2 = lda2.transform(corpus2)\n",
    "topics2"
   ]
  },
  {
   "cell_type": "code",
   "execution_count": null,
   "id": "ef00e0e1",
   "metadata": {},
   "outputs": [],
   "source": [
    "N = XYtr.shape[0]"
   ]
  },
  {
   "cell_type": "code",
   "execution_count": null,
   "id": "62fd53db",
   "metadata": {},
   "outputs": [],
   "source": [
    "# Text Processing\n",
    "fp = open('XYtr_ft.csv', 'w')\n",
    "fp.write('id')\n",
    "for k in range(K):\n",
    "    fp.write(',FT%04d' % k)\n",
    "fp.write('\\n')\n",
    "for i in range(N):\n",
    "    id = XYtr.loc[i,'id']\n",
    "    fp.write('%s' % id)\n",
    "    for k in range(K):\n",
    "        fp.write(',%f' % topics[i, k])    \n",
    "    fp.write('\\n')\n",
    "\n",
    "fp.close()    \n",
    "\n",
    "fp = open('Xte_ft.csv', 'w')\n",
    "fp.write('id')\n",
    "for k in range(K):\n",
    "    fp.write(',FT%04d' % k)\n",
    "fp.write('\\n')\n",
    "for i in range(N):\n",
    "    id = Xte.loc[i,'id']\n",
    "    fp.write('%s' % id)\n",
    "    for k in range(K):\n",
    "        fp.write(',%f' % topics[i + N, k])   \n",
    "    fp.write('\\n')\n",
    "\n",
    "fp.close() \n",
    "\n",
    "\n",
    "# Text Processing2\n",
    "fp = open('XYtr_ft2.csv', 'w')\n",
    "fp.write('id')\n",
    "for k in range(K2):\n",
    "    fp.write(',FT%04d' % k)\n",
    "\n",
    "fp.write('\\n')\n",
    "for i in range(N):\n",
    "    id = XYtr.loc[i,'id']\n",
    "    fp.write('%s' % id)\n",
    "    for k in range(K2):\n",
    "        fp.write(',%f' % topics2[i, k])\n",
    "    \n",
    "    fp.write('\\n')\n",
    "\n",
    "fp.close()    \n",
    "\n",
    "fp = open('Xte_ft2.csv', 'w')\n",
    "fp.write('id')\n",
    "for k in range(K2):\n",
    "    fp.write(',FT%04d' % k)\n",
    "\n",
    "fp.write('\\n')\n",
    "for i in range(N):\n",
    "    id = Xte.loc[i,'id']\n",
    "    fp.write('%s' % id)\n",
    "    for k in range(K2):\n",
    "        fp.write(',%f' % topics2[i + N, k])\n",
    "    \n",
    "    fp.write('\\n')\n",
    "\n",
    "fp.close() "
   ]
  },
  {
   "cell_type": "code",
   "execution_count": null,
   "id": "d081cbb0",
   "metadata": {},
   "outputs": [],
   "source": [
    "# Image Processing\n",
    "fp = open('XYtr_fi.csv', 'w')\n",
    "fp.write('id,fi1,fi2,fi3,fi4,fi5,fi6,fi7\\n')\n",
    "n=len(XYtr)\n",
    "for i in range(n):\n",
    "    id = XYtr.loc[i,'id']\n",
    "    f = XYtr.loc[i,'id'] + XYtr.loc[i, 'ext']\n",
    "    try:\n",
    "        pic = imageio.imread('images/images/' + f)\n",
    "        # number of rows\n",
    "        fi1 = pic.shape[0]\n",
    "        # number of columns\n",
    "        fi2 = pic.shape[1]\n",
    "        # find the mean value of rgb\n",
    "        fi3 = np.mean(pic[:,:,:])\n",
    "        # find the min pixel\n",
    "        fi4 = pic.min()\n",
    "        fi5 = np.mean(pic[:,:,0])\n",
    "        fi6 = np.mean(pic[:,:,1])\n",
    "        fi7 = np.mean(pic[:,:,2])\n",
    "    \n",
    "    except:\n",
    "        fi1 = np.nan\n",
    "        fi2 = np.nan\n",
    "        fi3 = np.nan\n",
    "        fi4 = np.nan\n",
    "        fi5 = np.nan\n",
    "        fi6 = np.nan\n",
    "        fi7 = np.nan\n",
    "        \n",
    "\n",
    "        pass\n",
    "    \n",
    "    fp.write('%s,%f,%f,%f,%f,%f,%f,%f\\n' % (id, fi1,fi2,fi3,fi4,fi5,fi6,fi7))\n",
    "fp.close() \n",
    "\n",
    "fp = open('Xte_fi.csv', 'w')\n",
    "fp.write('id,fi1,fi2,fi3,fi4,fi5,fi6,fi7\\n')\n",
    "n=len(Xte)\n",
    "for i in range(n):\n",
    "    id = Xte.loc[i,'id']\n",
    "    f = Xte.loc[i,'id'] + Xte.loc[i, 'ext']\n",
    "    try:\n",
    "        pic = imageio.imread('images/images/' + f)\n",
    "        # number of rows\n",
    "        fi1 = pic.shape[0]\n",
    "        # number of columns\n",
    "        fi2 = pic.shape[1]\n",
    "        # find the mean value of rgb\n",
    "        fi3 = np.mean(pic[:,:,:])\n",
    "        # find the min pixel\n",
    "        fi4 = pic.min()\n",
    "        fi5 = np.mean(pic[:,:,0])\n",
    "        fi6 = np.mean(pic[:,:,1])\n",
    "        fi7 = np.mean(pic[:,:,2])\n",
    "\n",
    "    \n",
    "    except:\n",
    "        fi1 = np.nan\n",
    "        fi2 = np.nan\n",
    "        fi3 = np.nan\n",
    "        fi4 = np.nan\n",
    "        fi5 = np.nan\n",
    "        fi6 = np.nan\n",
    "        fi7 = np.nan\n",
    "        \n",
    "        pass\n",
    "    \n",
    "    fp.write('%s,%f,%f,%f,%f,%f,%f,%f\\n' % (id, fi1,fi2,fi3,fi4,fi5,fi6,fi7))\n",
    "fp.close() "
   ]
  },
  {
   "cell_type": "code",
   "execution_count": null,
   "id": "2af00dd0",
   "metadata": {},
   "outputs": [],
   "source": []
  },
  {
   "cell_type": "code",
   "execution_count": null,
   "id": "9a94e72e",
   "metadata": {},
   "outputs": [],
   "source": [
    "# Add both Image and Text and Version for XYtr\n",
    "XYtr_fi = pd.read_csv('XYtr_fi.csv')\n",
    "XYtr_fi1 = XYtr_fi.copy()\n",
    "XYtr_fi1=XYtr_fi1.drop([\"id\"],axis=1)\n",
    "\n",
    "XYtr_ft = pd.read_csv('XYtr_ft.csv')\n",
    "XYtr_ft1 = XYtr_ft.copy()\n",
    "XYtr_ft1=XYtr_ft1.drop([\"id\"],axis=1)\n",
    "\n",
    "XYtr_ft2 = pd.read_csv('XYtr_ft2.csv')\n",
    "XYtr_ft2=XYtr_ft2.drop([\"id\"],axis=1)\n",
    "\n",
    "New_XYtr = pd.concat([XYtr1[['X.sales', 'cdate', 'fee1', 'fee2']],XYtr_fi1,XYtr_ft1,XYtr_ft2,versions_XYtr],axis=1)\n",
    "New_XYtr"
   ]
  },
  {
   "cell_type": "code",
   "execution_count": null,
   "id": "7d90542c",
   "metadata": {},
   "outputs": [],
   "source": [
    "# Add both Image and Text and Version for Xte\n",
    "Xte_fi = pd.read_csv('Xte_fi.csv')\n",
    "Xte_fi1 = Xte_fi.copy()\n",
    "Xte_fi1= Xte_fi1.drop([\"id\"],axis=1)\n",
    "\n",
    "Xte_ft = pd.read_csv('Xte_ft.csv')\n",
    "Xte_ft1 = Xte_ft.copy()\n",
    "Xte_ft1= Xte_ft1.drop([\"id\"],axis=1)\n",
    "\n",
    "Xte_ft2 = pd.read_csv('Xte_ft2.csv')\n",
    "Xte_ft2= Xte_ft2.drop([\"id\"],axis=1)\n",
    "\n",
    "New_Xte = pd.concat([Xte1[['X.sales', 'cdate', 'fee1', 'fee2']],Xte_fi1,Xte_ft1,Xte_ft2,versions_Xte],axis=1)\n",
    "New_Xte"
   ]
  },
  {
   "cell_type": "code",
   "execution_count": null,
   "id": "92c4d489",
   "metadata": {},
   "outputs": [],
   "source": [
    "\n",
    "Xtr_final = New_XYtr.copy()\n",
    "Ytr_final = XYtr1['total'].copy()\n",
    "Xte_final = New_Xte.copy()"
   ]
  },
  {
   "cell_type": "code",
   "execution_count": null,
   "id": "ffa60f95",
   "metadata": {},
   "outputs": [],
   "source": [
    "Xtr_final"
   ]
  },
  {
   "cell_type": "code",
   "execution_count": null,
   "id": "cc91d0eb",
   "metadata": {},
   "outputs": [],
   "source": [
    "Ytr_final"
   ]
  },
  {
   "cell_type": "code",
   "execution_count": null,
   "id": "c3db0037",
   "metadata": {},
   "outputs": [],
   "source": [
    "Xte_final"
   ]
  },
  {
   "cell_type": "code",
   "execution_count": null,
   "id": "cff87a4b",
   "metadata": {},
   "outputs": [],
   "source": [
    "Xtr_final.dtypes"
   ]
  },
  {
   "cell_type": "code",
   "execution_count": null,
   "id": "d575518e",
   "metadata": {},
   "outputs": [],
   "source": [
    "Xtr_final = Xtr_final.astype(np.float64)\n",
    "Xtr_final.dtypes"
   ]
  },
  {
   "cell_type": "code",
   "execution_count": null,
   "id": "24eeca6a",
   "metadata": {},
   "outputs": [],
   "source": [
    "# fill NA with 0\n",
    "Xtr_final = Xtr_final.fillna(0)"
   ]
  },
  {
   "cell_type": "code",
   "execution_count": null,
   "id": "45f44aa7",
   "metadata": {
    "scrolled": false
   },
   "outputs": [],
   "source": [
    "Xte_final.dtypes"
   ]
  },
  {
   "cell_type": "code",
   "execution_count": null,
   "id": "008fbf24",
   "metadata": {},
   "outputs": [],
   "source": [
    "Xte_final = Xte_final.astype(np.float64)\n",
    "Xte_final.dtypes"
   ]
  },
  {
   "cell_type": "code",
   "execution_count": null,
   "id": "fc5b1262",
   "metadata": {},
   "outputs": [],
   "source": [
    "Xte_final = Xte_final.fillna(0)"
   ]
  },
  {
   "cell_type": "code",
   "execution_count": null,
   "id": "75b64d91",
   "metadata": {},
   "outputs": [],
   "source": [
    "from sklearn.preprocessing import StandardScaler\n",
    "scaler = StandardScaler()\n",
    "Xtr_scale = scaler.fit_transform(Xtr_final)\n",
    "Xte_scale = scaler.transform(Xte_final)"
   ]
  },
  {
   "cell_type": "code",
   "execution_count": null,
   "id": "222f82d1",
   "metadata": {},
   "outputs": [],
   "source": [
    "from sklearn.linear_model import SGDRegressor\n",
    "\n",
    "#model = SGDRegressor(loss = 'epsilon_insensitive', alpha = 0, epsilon = 0,random_state=440).fit(Xtr_scale, Ytr_final)\n",
    "model = SGDRegressor(loss = 'epsilon_insensitive', alpha = 0, epsilon = 0).fit(Xtr_scale, Ytr_final)"
   ]
  },
  {
   "cell_type": "code",
   "execution_count": null,
   "id": "276990b8",
   "metadata": {},
   "outputs": [],
   "source": [
    "# For add both Image and Text\n",
    "pred_IT = pred0.copy()\n",
    "pred_IT['total'] = model.predict(Xte_scale)\n",
    "pred_IT.to_csv('pred_ITVS.csv', index = False)"
   ]
  },
  {
   "cell_type": "code",
   "execution_count": null,
   "id": "78353efa",
   "metadata": {},
   "outputs": [],
   "source": []
  },
  {
   "cell_type": "code",
   "execution_count": null,
   "id": "2df964f0",
   "metadata": {},
   "outputs": [],
   "source": []
  },
  {
   "cell_type": "code",
   "execution_count": null,
   "id": "fce801b2",
   "metadata": {},
   "outputs": [],
   "source": []
  }
 ],
 "metadata": {
  "kernelspec": {
   "display_name": "Python 3",
   "language": "python",
   "name": "python3"
  },
  "language_info": {
   "codemirror_mode": {
    "name": "ipython",
    "version": 3
   },
   "file_extension": ".py",
   "mimetype": "text/x-python",
   "name": "python",
   "nbconvert_exporter": "python",
   "pygments_lexer": "ipython3",
   "version": "3.8.8"
  }
 },
 "nbformat": 4,
 "nbformat_minor": 5
}
